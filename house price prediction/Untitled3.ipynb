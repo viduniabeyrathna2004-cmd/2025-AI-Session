{
  "nbformat": 4,
  "nbformat_minor": 0,
  "metadata": {
    "colab": {
      "provenance": []
    },
    "kernelspec": {
      "name": "python3",
      "display_name": "Python 3"
    },
    "language_info": {
      "name": "python"
    }
  },
  "cells": [
    {
      "cell_type": "code",
      "source": [
        "# ---------- Imports ----------\n",
        "import numpy as np\n",
        "import pandas as pd\n",
        "import matplotlib.pyplot as plt\n",
        "import joblib\n",
        "\n",
        "from sklearn.model_selection import train_test_split, RandomizedSearchCV\n",
        "from sklearn.pipeline import Pipeline\n",
        "from sklearn.compose import ColumnTransformer\n",
        "from sklearn.preprocessing import StandardScaler, OneHotEncoder\n",
        "from sklearn.impute import SimpleImputer\n",
        "from sklearn.linear_model import LinearRegression\n",
        "from sklearn.ensemble import RandomForestRegressor\n",
        "from sklearn.metrics import mean_squared_error, mean_absolute_error, r2_score\n"
      ],
      "metadata": {
        "id": "ZOLUg9BIN3y9"
      },
      "execution_count": 28,
      "outputs": []
    },
    {
      "cell_type": "code",
      "source": [
        "# Optional XGBoost\n",
        "try:\n",
        "    from xgboost import XGBRegressor\n",
        "    xgboost_available = True\n",
        "except:\n",
        "    xgboost_available = False\n",
        "\n",
        "from sklearn import __version__ as sklearn_version\n",
        "from packaging import version"
      ],
      "metadata": {
        "id": "x66zzWaPN_V3"
      },
      "execution_count": 29,
      "outputs": []
    },
    {
      "cell_type": "code",
      "source": [
        "# ---------- Load dataset ----------\n",
        "data = pd.read_csv('Housing.csv')\n",
        "print('Dataset loaded. Shape:', data.shape)"
      ],
      "metadata": {
        "colab": {
          "base_uri": "https://localhost:8080/"
        },
        "id": "03WVOiUbOGaq",
        "outputId": "55cbe995-4005-4277-b1d4-95088cf11fb3"
      },
      "execution_count": 30,
      "outputs": [
        {
          "output_type": "stream",
          "name": "stdout",
          "text": [
            "Dataset loaded. Shape: (545, 13)\n"
          ]
        }
      ]
    },
    {
      "cell_type": "code",
      "source": [
        "# ---------- Handle target column ----------\n",
        "# Ensure 'price' is numeric\n",
        "if 'price' in data.columns:\n",
        "    target_col = 'price'\n",
        "elif 'Price' in data.columns:\n",
        "    target_col = 'Price'\n",
        "else:\n",
        "    target_col = data.columns[-1]"
      ],
      "metadata": {
        "id": "q25OQ9HLOKNO"
      },
      "execution_count": 31,
      "outputs": []
    },
    {
      "cell_type": "code",
      "source": [
        "# Convert to numeric if needed\n",
        "data[target_col] = pd.to_numeric(data[target_col], errors='coerce')\n",
        "data = data.dropna(subset=[target_col])  # drop rows with non-numeric target\n",
        "print(f\"Target column '{target_col}' converted to numeric.\")"
      ],
      "metadata": {
        "colab": {
          "base_uri": "https://localhost:8080/"
        },
        "id": "299RgmdFON1h",
        "outputId": "48b4afd9-8fd0-4136-8700-512b507392bc"
      },
      "execution_count": 32,
      "outputs": [
        {
          "output_type": "stream",
          "name": "stdout",
          "text": [
            "Target column 'price' converted to numeric.\n"
          ]
        }
      ]
    },
    {
      "cell_type": "code",
      "source": [
        "# ---------- Feature selection ----------\n",
        "X = data.drop(columns=[target_col])\n",
        "y = data[target_col]"
      ],
      "metadata": {
        "id": "NI75arYMOS3N"
      },
      "execution_count": 33,
      "outputs": []
    },
    {
      "cell_type": "code",
      "source": [
        "# Identify numeric and categorical columns\n",
        "numeric_feats = X.select_dtypes(include=['int64', 'float64']).columns.tolist()\n",
        "cat_feats = X.select_dtypes(include=['object', 'category']).columns.tolist()\n",
        "\n",
        "print('Numeric features:', numeric_feats)\n",
        "print('Categorical features:', cat_feats)\n"
      ],
      "metadata": {
        "colab": {
          "base_uri": "https://localhost:8080/"
        },
        "id": "2MNKaUVOOXBV",
        "outputId": "b9d28a17-d1d5-483d-db10-bbead9902344"
      },
      "execution_count": 34,
      "outputs": [
        {
          "output_type": "stream",
          "name": "stdout",
          "text": [
            "Numeric features: ['area', 'bedrooms', 'bathrooms', 'stories', 'parking']\n",
            "Categorical features: ['mainroad', 'guestroom', 'basement', 'hotwaterheating', 'airconditioning', 'prefarea', 'furnishingstatus']\n"
          ]
        }
      ]
    },
    {
      "cell_type": "code",
      "source": [
        "# ---------- Train-test split ----------\n",
        "X_train, X_test, y_train, y_test = train_test_split(\n",
        "    X, y, test_size=0.2, random_state=42\n",
        ")"
      ],
      "metadata": {
        "id": "9VI0bN3wOb4I"
      },
      "execution_count": 35,
      "outputs": []
    },
    {
      "cell_type": "code",
      "source": [
        "# ---------- Pipelines ----------\n",
        "numeric_pipeline = Pipeline([\n",
        "    ('imputer', SimpleImputer(strategy='median')),\n",
        "    ('scaler', StandardScaler())\n",
        "])\n"
      ],
      "metadata": {
        "id": "NF5KfbtmOizo"
      },
      "execution_count": 36,
      "outputs": []
    },
    {
      "cell_type": "code",
      "source": [
        "# Handle sklearn version differences for OneHotEncoder\n",
        "if version.parse(sklearn_version) >= version.parse(\"1.2\"):\n",
        "    onehot = OneHotEncoder(handle_unknown='ignore', sparse_output=False)\n",
        "else:\n",
        "    onehot = OneHotEncoder(handle_unknown='ignore', sparse=False)\n",
        "\n",
        "categorical_pipeline = Pipeline([\n",
        "    ('imputer', SimpleImputer(strategy='constant', fill_value='missing')),\n",
        "    ('onehot', onehot)\n",
        "])"
      ],
      "metadata": {
        "id": "vkVkJW6uOlZS"
      },
      "execution_count": 37,
      "outputs": []
    },
    {
      "cell_type": "code",
      "source": [
        "# ---------- Combine preprocessing ----------\n",
        "preprocessor = ColumnTransformer(transformers=[\n",
        "    ('num', numeric_pipeline, numeric_feats),\n",
        "    ('cat', categorical_pipeline, cat_feats)\n",
        "])\n",
        "\n",
        "# ---------- Baseline model: Linear Regression ----------\n",
        "lr_pipeline = Pipeline([\n",
        "    ('pre', preprocessor),\n",
        "    ('lr', LinearRegression())\n",
        "])\n",
        "\n",
        "print('\\nTraining Linear Regression baseline...')\n",
        "lr_pipeline.fit(X_train, y_train)\n",
        "y_pred_lr = lr_pipeline.predict(X_test)"
      ],
      "metadata": {
        "colab": {
          "base_uri": "https://localhost:8080/"
        },
        "id": "YBEgeaAsOozX",
        "outputId": "c4efb0c6-60dc-447c-ce5b-a17ffadc6b4c"
      },
      "execution_count": 38,
      "outputs": [
        {
          "output_type": "stream",
          "name": "stdout",
          "text": [
            "\n",
            "Training Linear Regression baseline...\n"
          ]
        }
      ]
    },
    {
      "cell_type": "code",
      "source": [
        "# ---------- Evaluation function ----------\n",
        "def evaluate(y_true, y_pred):\n",
        "    rmse = np.sqrt(mean_squared_error(y_true, y_pred))\n",
        "    mae = mean_absolute_error(y_true, y_pred)\n",
        "    r2 = r2_score(y_true, y_pred)\n",
        "    return {'RMSE': rmse, 'MAE': mae, 'R2': r2}\n",
        "\n",
        "results = {}\n",
        "results['LinearRegression'] = evaluate(y_test, y_pred_lr)\n",
        "print('\\nLinear Regression results:', results['LinearRegression'])\n",
        "\n",
        "# ---------- Random Forest ----------\n",
        "rf_pipeline = Pipeline([\n",
        "    ('pre', preprocessor),\n",
        "    ('rf', RandomForestRegressor(random_state=42, n_jobs=-1))\n",
        "])\n",
        "\n",
        "print('\\nTraining default RandomForest...')\n",
        "rf_pipeline.fit(X_train, y_train)\n",
        "y_pred_rf = rf_pipeline.predict(X_test)\n",
        "results['RandomForest_default'] = evaluate(y_test, y_pred_rf)\n",
        "print('RandomForest default results:', results['RandomForest_default'])\n"
      ],
      "metadata": {
        "colab": {
          "base_uri": "https://localhost:8080/"
        },
        "id": "oaOtGH4xOsh4",
        "outputId": "e14cfff1-4cf0-4707-8fa1-05f676ed9de5"
      },
      "execution_count": 39,
      "outputs": [
        {
          "output_type": "stream",
          "name": "stdout",
          "text": [
            "\n",
            "Linear Regression results: {'RMSE': np.float64(1324506.9600914402), 'MAE': 970043.4039201644, 'R2': 0.6529242642153175}\n",
            "\n",
            "Training default RandomForest...\n",
            "RandomForest default results: {'RMSE': np.float64(1403925.371676078), 'MAE': 1025961.1683486238, 'R2': 0.610054593532394}\n"
          ]
        }
      ]
    },
    {
      "cell_type": "code",
      "source": [
        "# ---------- Randomized Search for RandomForest ----------\n",
        "rf_param_dist = {\n",
        "    'rf__n_estimators': [100, 200, 300, 500],\n",
        "    'rf__max_depth': [None, 10, 20, 30, 50],\n",
        "    'rf__min_samples_split': [2, 5, 10],\n",
        "    'rf__min_samples_leaf': [1, 2, 4],\n",
        "    'rf__max_features': ['sqrt', 'log2']\n",
        "}\n",
        "\n",
        "rs_rf = RandomizedSearchCV(\n",
        "    rf_pipeline,\n",
        "    rf_param_dist,\n",
        "    n_iter=20,\n",
        "    scoring='neg_root_mean_squared_error',\n",
        "    cv=3,\n",
        "    random_state=42,\n",
        "    n_jobs=-1\n",
        ")\n",
        "\n",
        "print('\\nStarting RandomizedSearchCV for RandomForest...')\n",
        "rs_rf.fit(X_train, y_train)\n",
        "print('Best RF params:', rs_rf.best_params_)\n",
        "\n",
        "best_rf = rs_rf.best_estimator_\n",
        "y_pred_rf_best = best_rf.predict(X_test)\n",
        "results['RandomForest_tuned'] = evaluate(y_test, y_pred_rf_best)\n",
        "print('RandomForest tuned results:', results['RandomForest_tuned'])\n"
      ],
      "metadata": {
        "colab": {
          "base_uri": "https://localhost:8080/"
        },
        "id": "kGn65YvVOz9o",
        "outputId": "4f4ab7ef-24a8-4e9b-8e82-139a5cd4d0a1"
      },
      "execution_count": 40,
      "outputs": [
        {
          "output_type": "stream",
          "name": "stdout",
          "text": [
            "\n",
            "Starting RandomizedSearchCV for RandomForest...\n",
            "Best RF params: {'rf__n_estimators': 500, 'rf__min_samples_split': 2, 'rf__min_samples_leaf': 2, 'rf__max_features': 'sqrt', 'rf__max_depth': None}\n",
            "RandomForest tuned results: {'RMSE': np.float64(1407486.8404945985), 'MAE': 1016700.2448787538, 'R2': 0.6080736621294}\n"
          ]
        }
      ]
    },
    {
      "cell_type": "code",
      "source": [
        "# ---------- XGBoost (optional) ----------\n",
        "if xgboost_available:\n",
        "    xgb_pipeline = Pipeline([\n",
        "        ('pre', preprocessor),\n",
        "        ('xgb', XGBRegressor(objective='reg:squarederror', random_state=42, n_jobs=-1))\n",
        "    ])\n",
        "\n",
        "    print('\\nTraining default XGBoost...')\n",
        "    xgb_pipeline.fit(X_train, y_train)\n",
        "    y_pred_xgb = xgb_pipeline.predict(X_test)\n",
        "    results['XGBoost_default'] = evaluate(y_test, y_pred_xgb)\n",
        "    print('XGBoost default results:', results['XGBoost_default'])\n",
        "\n",
        "    xgb_param_dist = {\n",
        "        'xgb__n_estimators': [100, 200, 400],\n",
        "        'xgb__max_depth': [3, 5, 7, 10],\n",
        "        'xgb__learning_rate': [0.01, 0.05, 0.1, 0.2],\n",
        "        'xgb__subsample': [0.6, 0.8, 1.0],\n",
        "        'xgb__colsample_bytree': [0.6, 0.8, 1.0]\n",
        "    }\n",
        "\n",
        "    rs_xgb = RandomizedSearchCV(\n",
        "        xgb_pipeline,\n",
        "        xgb_param_dist,\n",
        "        n_iter=20,\n",
        "        scoring='neg_root_mean_squared_error',\n",
        "        cv=3,\n",
        "        random_state=42,\n",
        "        n_jobs=-1\n",
        "    )\n",
        "\n",
        "    print('\\nStarting RandomizedSearchCV for XGBoost...')\n",
        "    rs_xgb.fit(X_train, y_train)\n",
        "    print('Best XGB params:', rs_xgb.best_params_)\n",
        "\n",
        "    best_xgb = rs_xgb.best_estimator_\n",
        "    y_pred_xgb_best = best_xgb.predict(X_test)\n",
        "    results['XGBoost_tuned'] = evaluate(y_test, y_pred_xgb_best)\n",
        "    print('XGBoost tuned results:', results['XGBoost_tuned'])"
      ],
      "metadata": {
        "colab": {
          "base_uri": "https://localhost:8080/"
        },
        "id": "jo0bRNTiO9Jn",
        "outputId": "95f83b9c-ec25-4da3-d327-335f77d09bbf"
      },
      "execution_count": 41,
      "outputs": [
        {
          "output_type": "stream",
          "name": "stdout",
          "text": [
            "\n",
            "Training default XGBoost...\n",
            "XGBoost default results: {'RMSE': np.float64(1438064.4086382224), 'MAE': 1057455.0, 'R2': 0.5908595323562622}\n",
            "\n",
            "Starting RandomizedSearchCV for XGBoost...\n",
            "Best XGB params: {'xgb__subsample': 0.6, 'xgb__n_estimators': 100, 'xgb__max_depth': 3, 'xgb__learning_rate': 0.05, 'xgb__colsample_bytree': 0.8}\n",
            "XGBoost tuned results: {'RMSE': np.float64(1296989.8363210098), 'MAE': 971900.1875, 'R2': 0.6671956777572632}\n"
          ]
        }
      ]
    },
    {
      "cell_type": "code",
      "source": [
        "# ---------- Summarize results ----------\n",
        "print('\\n=== Summary of results ===')\n",
        "for name, metrics in results.items():\n",
        "    print(f\"{name}: RMSE={metrics['RMSE']:.4f}, MAE={metrics['MAE']:.4f}, R2={metrics['R2']:.4f}\")\n",
        "\n",
        "# ---------- Select the best model ----------\n",
        "best_model_name = min(results.items(), key=lambda x: x[1]['RMSE'])[0]\n",
        "print('\\nBest model by RMSE:', best_model_name)\n",
        "\n",
        "if best_model_name.startswith('RandomForest') and 'best_rf' in locals():\n",
        "    final_model = best_rf\n",
        "elif best_model_name.startswith('XGBoost') and 'best_xgb' in locals():\n",
        "    final_model = best_xgb\n",
        "else:\n",
        "    final_model = lr_pipeline if best_model_name == 'LinearRegression' else rf_pipeline\n"
      ],
      "metadata": {
        "colab": {
          "base_uri": "https://localhost:8080/"
        },
        "id": "cb8yZAgjPHDu",
        "outputId": "78b69da3-4f9b-4959-c7c6-19ea34401a35"
      },
      "execution_count": 42,
      "outputs": [
        {
          "output_type": "stream",
          "name": "stdout",
          "text": [
            "\n",
            "=== Summary of results ===\n",
            "LinearRegression: RMSE=1324506.9601, MAE=970043.4039, R2=0.6529\n",
            "RandomForest_default: RMSE=1403925.3717, MAE=1025961.1683, R2=0.6101\n",
            "RandomForest_tuned: RMSE=1407486.8405, MAE=1016700.2449, R2=0.6081\n",
            "XGBoost_default: RMSE=1438064.4086, MAE=1057455.0000, R2=0.5909\n",
            "XGBoost_tuned: RMSE=1296989.8363, MAE=971900.1875, R2=0.6672\n",
            "\n",
            "Best model by RMSE: XGBoost_tuned\n"
          ]
        }
      ]
    },
    {
      "cell_type": "code",
      "source": [
        "# ---------- Save the best model ----------\n",
        "joblib.dump(final_model, 'best_model.pkl')\n",
        "print(\"✅ Saved best model to 'best_model.pkl'\")\n"
      ],
      "metadata": {
        "colab": {
          "base_uri": "https://localhost:8080/"
        },
        "id": "faNbGT8aPOVM",
        "outputId": "e810d1e8-0873-45af-d270-48920f8d237c"
      },
      "execution_count": 43,
      "outputs": [
        {
          "output_type": "stream",
          "name": "stdout",
          "text": [
            "✅ Saved best model to 'best_model.pkl'\n"
          ]
        }
      ]
    },
    {
      "cell_type": "code",
      "source": [
        "# ---------- Plot predicted vs actual ----------\n",
        "plt.figure(figsize=(6,6))\n",
        "plt.scatter(y_test, final_model.predict(X_test), alpha=0.6)\n",
        "plt.xlabel('Actual Prices')\n",
        "plt.ylabel('Predicted Prices')\n",
        "plt.title('Actual vs Predicted - Test Set')\n",
        "plt.plot([min(y_test), max(y_test)], [min(y_test), max(y_test)], '--', color='red')\n",
        "plt.show()"
      ],
      "metadata": {
        "colab": {
          "base_uri": "https://localhost:8080/",
          "height": 564
        },
        "id": "kDYSX0qiPUhc",
        "outputId": "59ed2165-94b5-4083-dc1c-b00977309c2c"
      },
      "execution_count": 44,
      "outputs": [
        {
          "output_type": "display_data",
          "data": {
            "text/plain": [
              "<Figure size 600x600 with 1 Axes>"
            ],
            "image/png": "[encoded data removed]"
          },
          "metadata": {}
        }
      ]
    }
  ]
}